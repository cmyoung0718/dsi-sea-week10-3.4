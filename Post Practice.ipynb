{
 "cells": [
  {
   "cell_type": "markdown",
   "metadata": {
    "button": false,
    "deletable": true,
    "new_sheet": false,
    "run_control": {
     "read_only": false
    }
   },
   "source": [
    "## Joey's First Site\n",
    "\n",
    "Today is a big day in Joey life. He's making his first Django project! He's so excited about it in fact, that he's invited you all to sign up to his cutting-edge site!"
   ]
  },
  {
   "cell_type": "markdown",
   "metadata": {
    "button": false,
    "deletable": true,
    "new_sheet": false,
    "run_control": {
     "read_only": false
    }
   },
   "source": [
    "## Step 1:\n",
    "\n",
    "First Joey needs you to enter your profile information! \n",
    "\n",
    "Here's what Joey wants from each of his users:\n",
    "* **email** : The email address / name of his user\n",
    "* **animal** : Favorite animal\n",
    "* **band** : Favorite band\n",
    "* **location** : Home location\n",
    "* **color** : Favorite color in hex\n",
    "\n",
    "Here's an example of a valid profile:\n",
    "* { 'email' : 'The Spaceman', 'animal' : 'Bald Eagle', 'band' : 'Boston', 'location' : 'US of A', 'color' : '#00796B'}\n",
    "\n",
    "Send a POST request with this information over to his site at:\n",
    "* https://peaceful-badlands-42479.herokuapp.com/site/survey/\n",
    "\n",
    "If everything went correctly, you should see a response that looks something like this:\n",
    "```\n",
    "{\n",
    "  \"animal\": \"Bald Eagle\",\n",
    "  \"location\": \"US of A\",\n",
    "  \"verified\": false,\n",
    "  \"callback\": \"\",\n",
    "  \"id\": 3,\n",
    "  \"color\": \"#00796B\",\n",
    "  \"band\": \"Boston\",\n",
    "  \"email\": \"The Spaceman\",\n",
    "  \"callback_url\": \"survey/callback/\"\n",
    "}\n",
    "```"
   ]
  },
  {
   "cell_type": "code",
   "execution_count": 2,
   "metadata": {
    "button": false,
    "collapsed": true,
    "deletable": true,
    "new_sheet": false,
    "run_control": {
     "read_only": false
    }
   },
   "outputs": [],
   "source": [
    "import json\n",
    "import requests"
   ]
  },
  {
   "cell_type": "code",
   "execution_count": 4,
   "metadata": {
    "button": false,
    "collapsed": false,
    "deletable": true,
    "new_sheet": false,
    "run_control": {
     "read_only": false
    }
   },
   "outputs": [
    {
     "name": "stdout",
     "output_type": "stream",
     "text": [
      "{\"location\": \"US of A\", \"color\": \"#00796B\", \"band\": \"Boston\", \"animal\": \"Bald Eagle\", \"email\": \"The Spaceman\", \"callback_url\": \"survey/callback/\", \"id\": 3, \"verified\": true, \"callback\": \"https://peaceful-badlands-42479.herokuapp.com/site/survey/printall/\"}\n"
     ]
    },
    {
     "name": "stderr",
     "output_type": "stream",
     "text": [
      "/Applications/Pineapple.app/Contents/Resources/python2.7/lib/python2.7/site-packages/requests/packages/urllib3/util/ssl_.py:90: InsecurePlatformWarning: A true SSLContext object is not available. This prevents urllib3 from configuring SSL appropriately and may cause certain SSL connections to fail. For more information, see https://urllib3.readthedocs.org/en/latest/security.html#insecureplatformwarning.\n",
      "  InsecurePlatformWarning\n"
     ]
    }
   ],
   "source": [
    "data = { 'email' : 'The Spaceman', 'animal' : 'Bald Eagle', 'band' : 'Boston', 'location' : 'US of A', 'color' : '#00796B'}\n",
    "response = requests.post('https://peaceful-badlands-42479.herokuapp.com/site/survey/', data=data)\n",
    "print response.content"
   ]
  },
  {
   "cell_type": "markdown",
   "metadata": {
    "button": false,
    "deletable": true,
    "new_sheet": false,
    "run_control": {
     "read_only": false
    }
   },
   "source": [
    "## Step 2:\n",
    "\n",
    "Joey is going to send a POST request to your website now to validate you as a user. Make a new route in your django site that Joey can send a POST request to. This post request is going to contain a variable 'key' that you are going to use in step 3.\n",
    "\n",
    "Before he can send a POST request, he needs to know what your actual 'callback' url is. A 'callback' url is something one website uses to send data to another website when that website is finished with a task. In this case, the task will be validating the user and generating the user's private key. \n",
    "\n",
    "When you think you are ready, send your callback URL to the following address:\n",
    "* https://peaceful-badlands-42479.herokuapp.com/site/survey/callback/\n",
    "\n",
    "Here's an example of a valid callback request:\n",
    "* { 'email' : 'The Spaceman', 'callback' : 'https://peaceful-badlands-42479.herokuapp.com/site/survey/printall/'}\n",
    "\n",
    "If everything went correctly, you should see a response that looks something like this:\n",
    "```\n",
    "{\n",
    "  \"message\": \"Whatever your website sends back will be here\",\n",
    "  \"user\": 3\n",
    "}\n",
    "```"
   ]
  },
  {
   "cell_type": "code",
   "execution_count": null,
   "metadata": {
    "button": false,
    "collapsed": true,
    "deletable": true,
    "new_sheet": false,
    "run_control": {
     "read_only": false
    }
   },
   "outputs": [],
   "source": []
  },
  {
   "cell_type": "markdown",
   "metadata": {
    "button": false,
    "deletable": true,
    "new_sheet": false,
    "run_control": {
     "read_only": false
    }
   },
   "source": [
    "## Step 3:\n",
    "\n",
    "Use your key and email to send a third POST request to the url here:\n",
    "* https://peaceful-badlands-42479.herokuapp.com/site/survey/verification/\n",
    "\n",
    "Here's an example of a valid validation request:\n",
    "* { 'email' : 'The Spaceman', 'key' : 'VGhlIFNwYWNlbWFuOCMwMDc5NkI4QmFsZCBFYWdsZThCb3N0b244VVMgb2YgQQ=='}\n",
    "\n",
    "If everything went correctly, you should see a response that looks something like this:\n",
    "```\n",
    "{\n",
    "  \"location\": \"US of A\",\n",
    "  \"color\": \"#00796B\",\n",
    "  \"band\": \"Boston\",\n",
    "  \"animal\": \"Bald Eagle\",\n",
    "  \"email\": \"The Spaceman\",\n",
    "  \"id\": 3,\n",
    "  \"verified\": true,\n",
    "  \"callback\": \"https://peaceful-badlands-42479.herokuapp.com/site/survey/printall/\"\n",
    "}\n",
    "```"
   ]
  },
  {
   "cell_type": "code",
   "execution_count": null,
   "metadata": {
    "button": false,
    "collapsed": true,
    "deletable": true,
    "new_sheet": false,
    "run_control": {
     "read_only": false
    }
   },
   "outputs": [],
   "source": []
  },
  {
   "cell_type": "markdown",
   "metadata": {
    "button": false,
    "deletable": true,
    "new_sheet": false,
    "run_control": {
     "read_only": false
    }
   },
   "source": [
    "## Step 4:\n",
    "\n",
    "Verify that your account was created successfully. The profiles are located here:\n",
    "* https://peaceful-badlands-42479.herokuapp.com/site/survey/show/"
   ]
  },
  {
   "cell_type": "code",
   "execution_count": null,
   "metadata": {
    "button": false,
    "collapsed": true,
    "deletable": true,
    "new_sheet": false,
    "run_control": {
     "read_only": false
    }
   },
   "outputs": [],
   "source": []
  }
 ],
 "metadata": {
  "anaconda-cloud": {},
  "kernelspec": {
   "display_name": "Python 2",
   "language": "python",
   "name": "python2"
  },
  "language_info": {
   "codemirror_mode": {
    "name": "ipython",
    "version": 2
   },
   "file_extension": ".py",
   "mimetype": "text/x-python",
   "name": "python",
   "nbconvert_exporter": "python",
   "pygments_lexer": "ipython2",
   "version": "2.7"
  }
 },
 "nbformat": 4,
 "nbformat_minor": 0
}
